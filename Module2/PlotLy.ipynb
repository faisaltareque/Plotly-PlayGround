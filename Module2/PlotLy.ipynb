{
 "cells": [
  {
   "cell_type": "markdown",
   "id": "4e23bb39",
   "metadata": {},
   "source": [
    "## Scatterplot"
   ]
  },
  {
   "cell_type": "code",
   "execution_count": 10,
   "id": "fb16cd93",
   "metadata": {},
   "outputs": [
    {
     "data": {
      "text/plain": [
       "'scatter.html'"
      ]
     },
     "execution_count": 10,
     "metadata": {},
     "output_type": "execute_result"
    }
   ],
   "source": [
    "import numpy as np\n",
    "import plotly.offline as pyo\n",
    "import plotly.graph_objs as go\n",
    "import pandas as pd\n",
    "\n",
    "np.random.seed(0)\n",
    "r_x = np.random.randint(1,101,100)\n",
    "r_y = np.random.randint(1,101,100)\n",
    "\n",
    "data = [go.Scatter(x = r_x, y = r_y, mode = 'markers')]\n",
    "layout = go.Layout(title = 'Scatter Plot', xaxis = {'title':'Time'}, yaxis = dict(title='Unit'), hovermode = 'closest')\n",
    "fig = go.Figure(data = data, layout = layout)\n",
    "pyo.plot(fig,filename = 'scatter.html')\n"
   ]
  },
  {
   "cell_type": "code",
   "execution_count": 6,
   "id": "f9b75116",
   "metadata": {},
   "outputs": [
    {
     "data": {
      "text/plain": [
       "'scatter2.html'"
      ]
     },
     "execution_count": 6,
     "metadata": {},
     "output_type": "execute_result"
    }
   ],
   "source": [
    "np.random.seed(0)\n",
    "r_x = np.random.randint(1,101,100)\n",
    "r_y = np.random.randint(1,101,100)\n",
    "\n",
    "data = [go.Scatter(x = r_x,y = r_y,mode = 'markers',marker = dict(size = 12,color = 'rgb(51,204,153)',symbol = 'pentagon',line = dict(width = 2)))]\n",
    "layout = go.Layout(\n",
    "    title = 'Random Data Scatterplot', \n",
    "    xaxis = dict(title = 'Time'), \n",
    "    yaxis = dict(title = 'Unit'), \n",
    "    hovermode ='closest'\n",
    ")\n",
    "fig = go.Figure(data=data, layout=layout)\n",
    "pyo.plot(fig, filename='scatter2.html')"
   ]
  },
  {
   "cell_type": "markdown",
   "id": "e4e55ace",
   "metadata": {},
   "source": [
    "## Bar Charts"
   ]
  },
  {
   "cell_type": "code",
   "execution_count": 12,
   "id": "a3804ff5",
   "metadata": {},
   "outputs": [
    {
     "data": {
      "text/plain": [
       "'bar1.html'"
      ]
     },
     "execution_count": 12,
     "metadata": {},
     "output_type": "execute_result"
    }
   ],
   "source": [
    "df = pd.read_csv('Data/2018WinterOlympics.csv')\n",
    "\n",
    "data = [go.Bar(\n",
    "    x=df['NOC'],\n",
    "    y=df['Total']\n",
    ")]\n",
    "layout = go.Layout(\n",
    "    title='2018 Winter Olympic Medals by Country'\n",
    ")\n",
    "fig = go.Figure(data=data, layout=layout)\n",
    "pyo.plot(fig, filename='bar1.html')"
   ]
  },
  {
   "cell_type": "code",
   "execution_count": 13,
   "id": "c5b8ab55",
   "metadata": {},
   "outputs": [
    {
     "data": {
      "text/plain": [
       "'bar2.html'"
      ]
     },
     "execution_count": 13,
     "metadata": {},
     "output_type": "execute_result"
    }
   ],
   "source": [
    "trace1 = go.Bar(\n",
    "    x=df['NOC'],  # NOC stands for National Olympic Committee\n",
    "    y=df['Gold'],\n",
    "    name = 'Gold',\n",
    "    marker=dict(color='#FFD700') # set the marker color to gold\n",
    ")\n",
    "trace2 = go.Bar(\n",
    "    x=df['NOC'],\n",
    "    y=df['Silver'],\n",
    "    name='Silver',\n",
    "    marker=dict(color='#9EA0A1') # set the marker color to silver\n",
    ")\n",
    "trace3 = go.Bar(\n",
    "    x=df['NOC'],\n",
    "    y=df['Bronze'],\n",
    "    name='Bronze',\n",
    "    marker=dict(color='#CD7F32') # set the marker color to bronze\n",
    ")\n",
    "data = [trace1, trace2, trace3]\n",
    "layout = go.Layout(\n",
    "    title='2018 Winter Olympic Medals by Country'\n",
    ")\n",
    "fig = go.Figure(data=data, layout=layout)\n",
    "pyo.plot(fig, filename='bar2.html')"
   ]
  },
  {
   "cell_type": "markdown",
   "id": "d9a476ac",
   "metadata": {},
   "source": [
    "## Distribution Plot"
   ]
  },
  {
   "cell_type": "code",
   "execution_count": 14,
   "id": "55fb44ac",
   "metadata": {},
   "outputs": [
    {
     "data": {
      "text/plain": [
       "'basic_distplot.html'"
      ]
     },
     "execution_count": 14,
     "metadata": {},
     "output_type": "execute_result"
    }
   ],
   "source": [
    "import plotly.figure_factory as ff\n",
    "x = np.random.randn(1000)\n",
    "hist_data = [x]\n",
    "group_labels = ['distplot']\n",
    "\n",
    "fig = ff.create_distplot(hist_data, group_labels)\n",
    "pyo.plot(fig, filename='basic_distplot.html')"
   ]
  },
  {
   "cell_type": "code",
   "execution_count": 15,
   "id": "202919cb",
   "metadata": {},
   "outputs": [
    {
     "data": {
      "text/plain": [
       "'multiset_distplot.html'"
      ]
     },
     "execution_count": 15,
     "metadata": {},
     "output_type": "execute_result"
    }
   ],
   "source": [
    "import numpy as np\n",
    "\n",
    "x1 = np.random.randn(200)-2\n",
    "x2 = np.random.randn(200)\n",
    "x3 = np.random.randn(200)+2\n",
    "x4 = np.random.randn(200)+4\n",
    "\n",
    "hist_data = [x1,x2,x3,x4]\n",
    "group_labels = ['Group1','Group2','Group3','Group4']\n",
    "\n",
    "fig = ff.create_distplot(hist_data, group_labels)\n",
    "pyo.plot(fig, filename='multiset_distplot.html')"
   ]
  },
  {
   "cell_type": "markdown",
   "id": "5cd7f84d",
   "metadata": {},
   "source": [
    "## Heat Maps"
   ]
  },
  {
   "cell_type": "code",
   "execution_count": 16,
   "id": "b610bedf",
   "metadata": {},
   "outputs": [
    {
     "data": {
      "text/plain": [
       "'Santa_Barbara.html'"
      ]
     },
     "execution_count": 16,
     "metadata": {},
     "output_type": "execute_result"
    }
   ],
   "source": [
    "df = pd.read_csv('Data/2010SantaBarbaraCA.csv')\n",
    "data = [go.Heatmap(\n",
    "    x=df['DAY'],\n",
    "    y=df['LST_TIME'],\n",
    "    z=df['T_HR_AVG'],\n",
    "    colorscale='Jet'\n",
    ")]\n",
    "\n",
    "layout = go.Layout(\n",
    "    title='Hourly Temperatures, June 1-7, 2010 in<br>\\\n",
    "    Santa Barbara, CA USA'\n",
    ")\n",
    "fig = go.Figure(data=data, layout=layout)\n",
    "pyo.plot(fig, filename='Santa_Barbara.html')"
   ]
  },
  {
   "cell_type": "code",
   "execution_count": null,
   "id": "f3a4f9bb",
   "metadata": {},
   "outputs": [],
   "source": []
  }
 ],
 "metadata": {
  "kernelspec": {
   "display_name": "Kernel-TFP39",
   "language": "python",
   "name": "tfp39"
  },
  "language_info": {
   "codemirror_mode": {
    "name": "ipython",
    "version": 3
   },
   "file_extension": ".py",
   "mimetype": "text/x-python",
   "name": "python",
   "nbconvert_exporter": "python",
   "pygments_lexer": "ipython3",
   "version": "3.9.5"
  }
 },
 "nbformat": 4,
 "nbformat_minor": 5
}
